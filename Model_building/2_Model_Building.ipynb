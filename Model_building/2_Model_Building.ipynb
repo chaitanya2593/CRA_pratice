{
 "cells": [
  {
   "cell_type": "markdown",
   "id": "2575e4b1",
   "metadata": {},
   "source": [
    "# 2. Model building using cleaned Credit Risk Data\n",
    "-------------------\n",
    "FSDS Machine Learning Workshop , October 16, 2022\n",
    "\n",
    "> <i>Description: Applying the random forest on cleaned data and deploying the model.</i>\n",
    "\n",
    "\n",
    "### Pre requisites: \n",
    "1. Make sure the user has all the data science packages installed.\n",
    "\n",
    "\n",
    "Input Files:\n",
    "- cleaned_dataset.csv\n",
    "\n",
    "Output File: \n",
    "- rf_model.pkl\n",
    "\n",
    "\n"
   ]
  },
  {
   "cell_type": "markdown",
   "id": "df11d87c",
   "metadata": {},
   "source": [
    "## 1. Import Required Packages "
   ]
  },
  {
   "cell_type": "code",
   "execution_count": 4,
   "id": "ecd31ca6",
   "metadata": {},
   "outputs": [],
   "source": [
    "# Import Required Packages \n",
    "import pandas as pd\n",
    "import numpy as np\n",
    "import pandas_profiling\n",
    "import seaborn as sns\n",
    "import matplotlib.pyplot as plt\n",
    "%matplotlib inline\n",
    "import sklearn \n",
    "import pickle\n",
    "import os\n",
    "\n",
    "from sklearn import metrics\n",
    "from sklearn.model_selection import train_test_split"
   ]
  },
  {
   "cell_type": "code",
   "execution_count": 5,
   "id": "93bfd598",
   "metadata": {},
   "outputs": [],
   "source": [
    "# to remove the printing barrier - displays all columns and rows\n",
    "pd.set_option('display.max_columns', None)\n",
    "pd.set_option('display.max_rows', None)"
   ]
  },
  {
   "cell_type": "code",
   "execution_count": 6,
   "id": "67544df1",
   "metadata": {},
   "outputs": [],
   "source": [
    "# TO print multiple outputs in single line\n",
    "from IPython.core.interactiveshell import InteractiveShell\n",
    "InteractiveShell.ast_node_interactivity = \"all\""
   ]
  },
  {
   "cell_type": "markdown",
   "id": "e8edb71c",
   "metadata": {},
   "source": [
    "## 2. Data analysis before model building"
   ]
  },
  {
   "cell_type": "code",
   "execution_count": 7,
   "id": "eb809ee2",
   "metadata": {},
   "outputs": [],
   "source": [
    "# TASK:Please load the cleaned_dataset.csv to the variable 'df'\n",
    "# hint: please refer the 1.EDA notebook\n",
    "df = --"
   ]
  },
  {
   "cell_type": "code",
   "execution_count": 8,
   "id": "0dcf19ff",
   "metadata": {},
   "outputs": [
    {
     "data": {
      "text/html": [
       "<div>\n",
       "<style scoped>\n",
       "    .dataframe tbody tr th:only-of-type {\n",
       "        vertical-align: middle;\n",
       "    }\n",
       "\n",
       "    .dataframe tbody tr th {\n",
       "        vertical-align: top;\n",
       "    }\n",
       "\n",
       "    .dataframe thead th {\n",
       "        text-align: right;\n",
       "    }\n",
       "</style>\n",
       "<table border=\"1\" class=\"dataframe\">\n",
       "  <thead>\n",
       "    <tr style=\"text-align: right;\">\n",
       "      <th></th>\n",
       "      <th>loan_percent_income</th>\n",
       "      <th>loan_grade</th>\n",
       "      <th>person_income</th>\n",
       "      <th>person_home_ownership</th>\n",
       "      <th>loan_int_rate</th>\n",
       "      <th>loan_status</th>\n",
       "    </tr>\n",
       "  </thead>\n",
       "  <tbody>\n",
       "    <tr>\n",
       "      <th>0</th>\n",
       "      <td>0.59</td>\n",
       "      <td>3</td>\n",
       "      <td>59000</td>\n",
       "      <td>0</td>\n",
       "      <td>16.02</td>\n",
       "      <td>1</td>\n",
       "    </tr>\n",
       "    <tr>\n",
       "      <th>1</th>\n",
       "      <td>0.10</td>\n",
       "      <td>1</td>\n",
       "      <td>9600</td>\n",
       "      <td>2</td>\n",
       "      <td>11.14</td>\n",
       "      <td>0</td>\n",
       "    </tr>\n",
       "    <tr>\n",
       "      <th>2</th>\n",
       "      <td>0.57</td>\n",
       "      <td>2</td>\n",
       "      <td>9600</td>\n",
       "      <td>1</td>\n",
       "      <td>12.87</td>\n",
       "      <td>1</td>\n",
       "    </tr>\n",
       "    <tr>\n",
       "      <th>3</th>\n",
       "      <td>0.53</td>\n",
       "      <td>2</td>\n",
       "      <td>65500</td>\n",
       "      <td>0</td>\n",
       "      <td>15.23</td>\n",
       "      <td>1</td>\n",
       "    </tr>\n",
       "    <tr>\n",
       "      <th>4</th>\n",
       "      <td>0.55</td>\n",
       "      <td>2</td>\n",
       "      <td>54400</td>\n",
       "      <td>0</td>\n",
       "      <td>14.27</td>\n",
       "      <td>1</td>\n",
       "    </tr>\n",
       "  </tbody>\n",
       "</table>\n",
       "</div>"
      ],
      "text/plain": [
       "   loan_percent_income  loan_grade  person_income  person_home_ownership  \\\n",
       "0                 0.59           3          59000                      0   \n",
       "1                 0.10           1           9600                      2   \n",
       "2                 0.57           2           9600                      1   \n",
       "3                 0.53           2          65500                      0   \n",
       "4                 0.55           2          54400                      0   \n",
       "\n",
       "   loan_int_rate  loan_status  \n",
       "0          16.02            1  \n",
       "1          11.14            0  \n",
       "2          12.87            1  \n",
       "3          15.23            1  \n",
       "4          14.27            1  "
      ]
     },
     "execution_count": 8,
     "metadata": {},
     "output_type": "execute_result"
    }
   ],
   "source": [
    "df.head()"
   ]
  },
  {
   "cell_type": "code",
   "execution_count": 9,
   "id": "c8bea7a1",
   "metadata": {},
   "outputs": [
    {
     "name": "stdout",
     "output_type": "stream",
     "text": [
      "<class 'pandas.core.frame.DataFrame'>\n",
      "RangeIndex: 28514 entries, 0 to 28513\n",
      "Data columns (total 6 columns):\n",
      " #   Column                 Non-Null Count  Dtype  \n",
      "---  ------                 --------------  -----  \n",
      " 0   loan_percent_income    28514 non-null  float64\n",
      " 1   loan_grade             28514 non-null  int64  \n",
      " 2   person_income          28514 non-null  int64  \n",
      " 3   person_home_ownership  28514 non-null  int64  \n",
      " 4   loan_int_rate          28514 non-null  float64\n",
      " 5   loan_status            28514 non-null  int64  \n",
      "dtypes: float64(2), int64(4)\n",
      "memory usage: 1.3 MB\n"
     ]
    }
   ],
   "source": [
    "df.info()"
   ]
  },
  {
   "cell_type": "markdown",
   "id": "3a64fe4b-8d4f-44bb-89cd-83f11b1c69df",
   "metadata": {},
   "source": [
    "- `.sample()` is used to return a random sample of rows or columns from the df. "
   ]
  },
  {
   "cell_type": "code",
   "execution_count": 10,
   "id": "57663516",
   "metadata": {},
   "outputs": [
    {
     "data": {
      "text/html": [
       "<div>\n",
       "<style scoped>\n",
       "    .dataframe tbody tr th:only-of-type {\n",
       "        vertical-align: middle;\n",
       "    }\n",
       "\n",
       "    .dataframe tbody tr th {\n",
       "        vertical-align: top;\n",
       "    }\n",
       "\n",
       "    .dataframe thead th {\n",
       "        text-align: right;\n",
       "    }\n",
       "</style>\n",
       "<table border=\"1\" class=\"dataframe\">\n",
       "  <thead>\n",
       "    <tr style=\"text-align: right;\">\n",
       "      <th></th>\n",
       "      <th>loan_percent_income</th>\n",
       "      <th>loan_grade</th>\n",
       "      <th>person_income</th>\n",
       "      <th>person_home_ownership</th>\n",
       "      <th>loan_int_rate</th>\n",
       "      <th>loan_status</th>\n",
       "    </tr>\n",
       "  </thead>\n",
       "  <tbody>\n",
       "    <tr>\n",
       "      <th>5081</th>\n",
       "      <td>0.07</td>\n",
       "      <td>0</td>\n",
       "      <td>44000</td>\n",
       "      <td>1</td>\n",
       "      <td>7.51</td>\n",
       "      <td>0</td>\n",
       "    </tr>\n",
       "    <tr>\n",
       "      <th>20063</th>\n",
       "      <td>0.21</td>\n",
       "      <td>2</td>\n",
       "      <td>47004</td>\n",
       "      <td>1</td>\n",
       "      <td>13.61</td>\n",
       "      <td>1</td>\n",
       "    </tr>\n",
       "    <tr>\n",
       "      <th>28130</th>\n",
       "      <td>0.16</td>\n",
       "      <td>0</td>\n",
       "      <td>150000</td>\n",
       "      <td>1</td>\n",
       "      <td>6.62</td>\n",
       "      <td>0</td>\n",
       "    </tr>\n",
       "    <tr>\n",
       "      <th>384</th>\n",
       "      <td>0.24</td>\n",
       "      <td>2</td>\n",
       "      <td>100000</td>\n",
       "      <td>0</td>\n",
       "      <td>12.87</td>\n",
       "      <td>0</td>\n",
       "    </tr>\n",
       "    <tr>\n",
       "      <th>11629</th>\n",
       "      <td>0.04</td>\n",
       "      <td>1</td>\n",
       "      <td>76300</td>\n",
       "      <td>1</td>\n",
       "      <td>11.86</td>\n",
       "      <td>0</td>\n",
       "    </tr>\n",
       "  </tbody>\n",
       "</table>\n",
       "</div>"
      ],
      "text/plain": [
       "       loan_percent_income  loan_grade  person_income  person_home_ownership  \\\n",
       "5081                  0.07           0          44000                      1   \n",
       "20063                 0.21           2          47004                      1   \n",
       "28130                 0.16           0         150000                      1   \n",
       "384                   0.24           2         100000                      0   \n",
       "11629                 0.04           1          76300                      1   \n",
       "\n",
       "       loan_int_rate  loan_status  \n",
       "5081            7.51            0  \n",
       "20063          13.61            1  \n",
       "28130           6.62            0  \n",
       "384            12.87            0  \n",
       "11629          11.86            0  "
      ]
     },
     "execution_count": 10,
     "metadata": {},
     "output_type": "execute_result"
    }
   ],
   "source": [
    "# TASK: Using above hint please print the sample of 5 records and observe\n",
    "# please note the output might be different from displayed\n",
    "--"
   ]
  },
  {
   "cell_type": "markdown",
   "id": "093bc8a0",
   "metadata": {},
   "source": [
    "### Loan Status pie chart\n",
    "\n",
    "Refer: https://www.geeksforgeeks.org/how-to-create-a-pie-chart-in-seaborn/ for more information on how to create more elegant pie charts."
   ]
  },
  {
   "cell_type": "code",
   "execution_count": 9,
   "id": "07bab332",
   "metadata": {},
   "outputs": [
    {
     "data": {
      "image/png": "[encoded data removed]",
      "text/plain": [
       "<Figure size 432x288 with 1 Axes>"
      ]
     },
     "metadata": {},
     "output_type": "display_data"
    }
   ],
   "source": [
    "# create pie chart\n",
    "# define Seaborn color palette to use\n",
    "colors = sns.color_palette('pastel')[0:2]\n",
    "labels= df['loan_status'].value_counts().index\n",
    "\n",
    "plt.pie(df['loan_status'].value_counts(),labels = labels, colors=colors,  autopct='%.0f%%')\n",
    "plt.title('Loan Status')\n",
    "plt.show();"
   ]
  },
  {
   "cell_type": "markdown",
   "id": "63621d6a",
   "metadata": {},
   "source": [
    "### Loan interest rate  Disturbution"
   ]
  },
  {
   "cell_type": "code",
   "execution_count": 12,
   "id": "f508cb26",
   "metadata": {},
   "outputs": [
    {
     "data": {
      "image/png": "[encoded data removed]",
      "text/plain": [
       "<Figure size 432x288 with 1 Axes>"
      ]
     },
     "metadata": {
      "needs_background": "light"
     },
     "output_type": "display_data"
    }
   ],
   "source": [
    "fig = sns.histplot(df.loan_int_rate)"
   ]
  },
  {
   "cell_type": "code",
   "execution_count": 12,
   "id": "3857f345",
   "metadata": {},
   "outputs": [
    {
     "data": {
      "image/png": "[encoded data removed]",
      "text/plain": [
       "<Figure size 432x288 with 1 Axes>"
      ]
     },
     "metadata": {
      "needs_background": "light"
     },
     "output_type": "display_data"
    }
   ],
   "source": [
    "# TASK: Similar to above could please plot an histogram for the column 'loan_percent_income'\n",
    "# you filter a column by using command 'df.loan_int_rate' or 'df[\"df.loan_int_rate\"]'\n",
    "fig = --"
   ]
  },
  {
   "cell_type": "markdown",
   "id": "9ebb4d37",
   "metadata": {},
   "source": [
    "## 3. Model Training"
   ]
  },
  {
   "cell_type": "markdown",
   "id": "01dbfdea",
   "metadata": {},
   "source": [
    "### 3.1 Prepare data for training"
   ]
  },
  {
   "cell_type": "code",
   "execution_count": 13,
   "id": "d5ee4700",
   "metadata": {},
   "outputs": [],
   "source": [
    "# TASK: separating features and target variable \n",
    "# you can try using the same filtering method as above eg. df[['a','b','c']] for multiple columns \n",
    "# and \"df['a']\" for single column dataframe\n",
    "X = --\n",
    "y = --"
   ]
  },
  {
   "cell_type": "markdown",
   "id": "e19c2cad",
   "metadata": {},
   "source": [
    "### 3.2 Train and test split"
   ]
  },
  {
   "cell_type": "markdown",
   "id": "917a8be1-36bc-49eb-a8aa-d41eca524cff",
   "metadata": {},
   "source": [
    "Dividing the dataset into 2 dataframes:\n",
    "1) Train df - 70 % of records\n",
    "\n",
    "2) Train df - 20 % of the records"
   ]
  },
  {
   "cell_type": "code",
   "execution_count": 14,
   "id": "66cc9b69",
   "metadata": {},
   "outputs": [],
   "source": [
    "#TASK : Please split the whole data set into 70% for Train and 30% for Test\n",
    "# please assign the value for test_size\n",
    "X_train, X_test, y_train, y_test = train_test_split(X, y, test_size=--, random_state=62, stratify=y)"
   ]
  },
  {
   "cell_type": "code",
   "execution_count": 15,
   "id": "36f83327",
   "metadata": {},
   "outputs": [
    {
     "name": "stdout",
     "output_type": "stream",
     "text": [
      "Target Training Data Shape: (19959,)\n",
      "Target Test Data Shape: (8555,)\n",
      "Variables Training Data Shape: (19959, 5)\n",
      "Variable Test Data Shape: (8555, 5)\n"
     ]
    }
   ],
   "source": [
    "# Printing the train and test dataframe dimensions\n",
    "print(\"Target Training Data Shape:\" , y_train.shape)\n",
    "print(\"Target Test Data Shape:\" , y_test.shape)\n",
    "print(\"Variables Training Data Shape:\" , X_train.shape)\n",
    "print(\"Variable Test Data Shape:\" , X_test.shape)"
   ]
  },
  {
   "cell_type": "markdown",
   "id": "6aa085cb",
   "metadata": {},
   "source": [
    "### 3.3 Loading the model"
   ]
  },
  {
   "cell_type": "code",
   "execution_count": 16,
   "id": "a815b090",
   "metadata": {},
   "outputs": [],
   "source": [
    "# initialising the random forest model from sklearn library\n",
    "# TASK : please intialise a RandomForestClassifier with 1000 estimators  , max_depth of 4  \n",
    "# and set random_state=7 \n",
    "# Hint: please refer the below reference links on the model intialised , fitted and predicted.\n",
    "\n",
    "\n",
    "# ref: https://scikit-learn.org/stable/modules/generated/sklearn.ensemble.RandomForestClassifier.html\n",
    "# if you are curious how to perform hyperparameter tuning: https://towardsdatascience.com/hyperparameter-tuning-the-random-forest-in-python-using-scikit-learn-28d2aa77dd74\n",
    "\n",
    "from sklearn.ensemble import RandomForestClassifier\n",
    "\n",
    "forest = --"
   ]
  },
  {
   "cell_type": "code",
   "execution_count": 17,
   "id": "7f75902c",
   "metadata": {},
   "outputs": [],
   "source": [
    "# TASK : Fitting the model on Train Data i.e \"X_train\", \"y_train\"\n",
    "rf_model = --"
   ]
  },
  {
   "cell_type": "code",
   "execution_count": 18,
   "id": "82a1324b",
   "metadata": {},
   "outputs": [],
   "source": [
    "# Making predictions\n",
    "pred = rf_model.predict(X_test)"
   ]
  },
  {
   "cell_type": "code",
   "execution_count": 19,
   "id": "7b03ffc7",
   "metadata": {},
   "outputs": [
    {
     "data": {
      "text/plain": [
       "array([0, 1, 0, ..., 0, 0, 0], dtype=int64)"
      ]
     },
     "execution_count": 19,
     "metadata": {},
     "output_type": "execute_result"
    }
   ],
   "source": [
    "pred"
   ]
  },
  {
   "cell_type": "markdown",
   "id": "df3c695f",
   "metadata": {},
   "source": [
    "### 3.4 Feature importance \n",
    "Ref: https://towardsdatascience.com/explaining-feature-importance-by-example-of-a-random-forest-d9166011959e"
   ]
  },
  {
   "cell_type": "code",
   "execution_count": 20,
   "id": "fa0415d6",
   "metadata": {},
   "outputs": [],
   "source": [
    "Final_df = pd.DataFrame()"
   ]
  },
  {
   "cell_type": "code",
   "execution_count": 21,
   "id": "b464b881",
   "metadata": {},
   "outputs": [],
   "source": [
    "Final_df['columns'] = X_train.columns\n",
    "Final_df['feature_importance'] = rf_model.feature_importances_"
   ]
  },
  {
   "cell_type": "code",
   "execution_count": 22,
   "id": "6f1e989c",
   "metadata": {},
   "outputs": [
    {
     "data": {
      "text/html": [
       "<div>\n",
       "<style scoped>\n",
       "    .dataframe tbody tr th:only-of-type {\n",
       "        vertical-align: middle;\n",
       "    }\n",
       "\n",
       "    .dataframe tbody tr th {\n",
       "        vertical-align: top;\n",
       "    }\n",
       "\n",
       "    .dataframe thead th {\n",
       "        text-align: right;\n",
       "    }\n",
       "</style>\n",
       "<table border=\"1\" class=\"dataframe\">\n",
       "  <thead>\n",
       "    <tr style=\"text-align: right;\">\n",
       "      <th></th>\n",
       "      <th>columns</th>\n",
       "      <th>feature_importance</th>\n",
       "    </tr>\n",
       "  </thead>\n",
       "  <tbody>\n",
       "    <tr>\n",
       "      <th>0</th>\n",
       "      <td>loan_percent_income</td>\n",
       "      <td>0.357677</td>\n",
       "    </tr>\n",
       "    <tr>\n",
       "      <th>1</th>\n",
       "      <td>loan_grade</td>\n",
       "      <td>0.241564</td>\n",
       "    </tr>\n",
       "    <tr>\n",
       "      <th>3</th>\n",
       "      <td>person_home_ownership</td>\n",
       "      <td>0.152480</td>\n",
       "    </tr>\n",
       "    <tr>\n",
       "      <th>4</th>\n",
       "      <td>loan_int_rate</td>\n",
       "      <td>0.124349</td>\n",
       "    </tr>\n",
       "    <tr>\n",
       "      <th>2</th>\n",
       "      <td>person_income</td>\n",
       "      <td>0.123931</td>\n",
       "    </tr>\n",
       "  </tbody>\n",
       "</table>\n",
       "</div>"
      ],
      "text/plain": [
       "                 columns  feature_importance\n",
       "0    loan_percent_income            0.357677\n",
       "1             loan_grade            0.241564\n",
       "3  person_home_ownership            0.152480\n",
       "4          loan_int_rate            0.124349\n",
       "2          person_income            0.123931"
      ]
     },
     "execution_count": 22,
     "metadata": {},
     "output_type": "execute_result"
    }
   ],
   "source": [
    "Final_df.sort_values('feature_importance', ascending=False)"
   ]
  },
  {
   "cell_type": "markdown",
   "id": "7cfdcbe2",
   "metadata": {},
   "source": [
    "### 3.5 Checking the model quality \n",
    "\n",
    "Ref: https://towardsdatascience.com/metrics-to-evaluate-your-machine-learning-algorithm-f10ba6e38234"
   ]
  },
  {
   "cell_type": "code",
   "execution_count": 23,
   "id": "5ef89ad0",
   "metadata": {},
   "outputs": [],
   "source": [
    "from sklearn.metrics import accuracy_score, precision_score, recall_score, f1_score\n",
    "def generate_model_report(y_actual, y_predicted):\n",
    "    print(\"Accuracy = \" , accuracy_score(y_actual, y_predicted))\n",
    "    print(\"Precision = \" ,precision_score(y_actual, y_predicted))\n",
    "    print(\"Recall = \" ,recall_score(y_actual, y_predicted))\n",
    "    print(\"F1 Score = \" ,f1_score(y_actual, y_predicted))\n",
    "    "
   ]
  },
  {
   "cell_type": "code",
   "execution_count": 24,
   "id": "4b02b4f4",
   "metadata": {},
   "outputs": [
    {
     "name": "stdout",
     "output_type": "stream",
     "text": [
      "Accuracy =  0.8893045002922267\n",
      "Precision =  0.8402489626556017\n",
      "Recall =  0.629207664422579\n",
      "F1 Score =  0.7195735860230975\n"
     ]
    }
   ],
   "source": [
    "# Train Metrics\n",
    "# TASK : Just observe and enjoy\n",
    "generate_model_report(y_test, pred)"
   ]
  },
  {
   "cell_type": "markdown",
   "id": "bff4a182",
   "metadata": {},
   "source": [
    "## 4. Exporting the Model"
   ]
  },
  {
   "cell_type": "markdown",
   "id": "38eefeae",
   "metadata": {},
   "source": [
    "We save the model as a pickle file. The model can be then used on other machines.\n",
    "- Ref: https://towardsdatascience.com/do-not-use-python-pickle-unless-you-know-all-these-facts-d9e8695b7d43"
   ]
  },
  {
   "cell_type": "code",
   "execution_count": 25,
   "id": "87bf1bd9",
   "metadata": {},
   "outputs": [],
   "source": [
    "with open('rf_model.pkl', 'wb') as f:  # Python 3: open(..., 'wb')\n",
    "    pickle.dump(rf_model, f) "
   ]
  }
 ],
 "metadata": {
  "kernelspec": {
   "display_name": "Python 3 (ipykernel)",
   "language": "python",
   "name": "python3"
  },
  "language_info": {
   "codemirror_mode": {
    "name": "ipython",
    "version": 3
   },
   "file_extension": ".py",
   "mimetype": "text/x-python",
   "name": "python",
   "nbconvert_exporter": "python",
   "pygments_lexer": "ipython3",
   "version": "3.8.8"
  }
 },
 "nbformat": 4,
 "nbformat_minor": 5
}
